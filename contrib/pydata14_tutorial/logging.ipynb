{
 "metadata": {
  "name": "",
  "signature": "sha256:4c0bfed957e23ed11dfa136dbd556d7fe0f6f3f70d7a393a37135511bb41c19b"
 },
 "nbformat": 3,
 "nbformat_minor": 0,
 "worksheets": [
  {
   "cells": [
    {
     "cell_type": "heading",
     "level": 1,
     "metadata": {},
     "source": [
      "Logging data"
     ]
    },
    {
     "cell_type": "code",
     "collapsed": false,
     "input": [
      "from planout.ops.random import *\n",
      "from planout.experiment import SimpleExperiment\n",
      "import pandas as pd\n",
      "import json"
     ],
     "language": "python",
     "metadata": {},
     "outputs": []
    },
    {
     "cell_type": "heading",
     "level": 3,
     "metadata": {},
     "source": [
      "Log data"
     ]
    },
    {
     "cell_type": "markdown",
     "metadata": {},
     "source": [
      "Here we explain what all the fields are in the log data. Run this:"
     ]
    },
    {
     "cell_type": "code",
     "collapsed": false,
     "input": [
      "class LoggedExperiment(SimpleExperiment):\n",
      "    def assign(self, params, userid):\n",
      "        params.x = BernoulliTrial(p=0.2, unit=userid)\n",
      "        params.y = BernoulliTrial(p=0.2, unit=userid)"
     ],
     "language": "python",
     "metadata": {},
     "outputs": []
    },
    {
     "cell_type": "markdown",
     "metadata": {},
     "source": [
      "Then open your terminal, navigate to the directory this notebook is in, and type:\n",
      "\n",
      "```\n",
      "> tail -f LoggedExperiment.log\n",
      "```\n",
      "\n",
      "You can now see how data is logged to your experiment as its run."
     ]
    },
    {
     "cell_type": "heading",
     "level": 4,
     "metadata": {},
     "source": [
      "Exposure logs"
     ]
    },
    {
     "cell_type": "markdown",
     "metadata": {},
     "source": [
      "Whenever you request a parameter, an exposure is automatically logged. In a production environment, one would use caching (e.g., memcache) so that we only exposure log once per unit. `SimpleExperiment` exposure logs once per instance."
     ]
    },
    {
     "cell_type": "code",
     "collapsed": false,
     "input": [
      "e = LoggedExperiment(userid=4)\n",
      "print e.get('x')\n",
      "print e.get('y')"
     ],
     "language": "python",
     "metadata": {},
     "outputs": []
    },
    {
     "cell_type": "heading",
     "level": 4,
     "metadata": {},
     "source": [
      "Manual exposure logging"
     ]
    },
    {
     "cell_type": "markdown",
     "metadata": {},
     "source": [
      "_note that there is a bug in PlanOut!!_"
     ]
    },
    {
     "cell_type": "code",
     "collapsed": false,
     "input": [
      "e.log_exposure()\n",
      "e.log_exposure({'endpoint': 'home.py'})"
     ],
     "language": "python",
     "metadata": {},
     "outputs": []
    },
    {
     "cell_type": "heading",
     "level": 4,
     "metadata": {},
     "source": [
      "Event logging"
     ]
    },
    {
     "cell_type": "markdown",
     "metadata": {},
     "source": [
      "You can also log arbitrary events."
     ]
    },
    {
     "cell_type": "code",
     "collapsed": false,
     "input": [
      "e.log_event('purchase')\n",
      "e.log_event('purchase', {'price': 2.00, 'genre': 'unclassifiable'})"
     ],
     "language": "python",
     "metadata": {},
     "outputs": []
    },
    {
     "cell_type": "heading",
     "level": 2,
     "metadata": {},
     "source": [
      "Putting it all together"
     ]
    },
    {
     "cell_type": "markdown",
     "metadata": {},
     "source": [
      "We simulate the components of a PlanOut-driven website and show how data analysis would work in conjunction with the data generated from the simulation.\n",
      "\n",
      "This hypothetical experiment looks at the effect of sorting a music album's songs by popularity (instead of say track number) on a Web-based music store"
     ]
    },
    {
     "cell_type": "code",
     "collapsed": false,
     "input": [
      "class MusicExperiment(SimpleExperiment):\n",
      "    def assign(self, params, userid, albumid):\n",
      "        params.sort_by_rating = BernoulliTrial(p=0.2, unit=[userid, albumid])"
     ],
     "language": "python",
     "metadata": {},
     "outputs": []
    },
    {
     "cell_type": "code",
     "collapsed": true,
     "input": [
      "import random\n",
      "\n",
      "def render_webpage(userid, albumid):\n",
      "    'simulated web page rendering function'\n",
      "    \n",
      "    # get experiment for the given user / album pair.\n",
      "    e = MusicExperiment(userid=userid, albumid=albumid)\n",
      "    \n",
      "    # use log_exposure() so that we can also record the price\n",
      "    e.log_exposure({'price': get_price(albumid)})\n",
      "    \n",
      "    # use a default value with get() in production settings, in case\n",
      "    # your experimentation system goes down\n",
      "    if e.get('sort_by_rating', False):\n",
      "        songs = \"some sorted songs\" # this would sort the songs by rating\n",
      "    else:\n",
      "        songs = \"some non-sorted songs\"\n",
      "    \n",
      "    html = \"some HTML code involving %s\" % songs  # most valid html ever.\n",
      "    # render html\n",
      "    \n",
      "def get_price(albumid):\n",
      "    'look up the price of an album'\n",
      "    # this would realistically hook into a database\n",
      "    return 11.99\n",
      "\n",
      "def handle_purchase(userid, albumid):\n",
      "    'handles purchase of an album'\n",
      "    e = MusicExperiment(userid=userid, albumid=albumid)\n",
      "    e.log_event('purchase', {'price': get_price(albumid)})\n",
      "    # start album download\n",
      "\n",
      "def simulate_user_decision(userid, albumid):\n",
      "    'simulate user experience'\n",
      "    # This function should be thought of as simulating a users' decision-making\n",
      "    # process for the given stimulus - and so we don't actually want to do any\n",
      "    # logging here.\n",
      "    e = MusicExperiment(userid=userid, albumid=albumid)\n",
      "    e.set_auto_exposure_logging(False)  # turn off auto-logging\n",
      "    \n",
      "    # users with sorted songs have a higher purchase rate\n",
      "    if e.get('sort_by_rating'):\n",
      "        prob_purchase = 0.15\n",
      "    else:\n",
      "        prob_purchase = 0.10\n",
      "    \n",
      "    # make purchase with probability prob_purchase\n",
      "    return random.random() < prob_purchase\n",
      "\n",
      "# We then simulate 500 users' visitation to 20 albums, and their decision to purchase\n",
      "random.seed(0)\n",
      "for u in xrange(500):\n",
      "    for a in xrange(20):\n",
      "        render_webpage(u, a)\n",
      "        if simulate_user_decision(u, a):\n",
      "            handle_purchase(u, a)"
     ],
     "language": "python",
     "metadata": {},
     "outputs": []
    },
    {
     "cell_type": "heading",
     "level": 3,
     "metadata": {},
     "source": [
      "Loading data into Python for analysis"
     ]
    },
    {
     "cell_type": "markdown",
     "metadata": {},
     "source": [
      "Data is logged to `MusicExperiment.log`. Each line is JSON-encoded dictionary that contains information about the event types, inputs, and parameter assignments."
     ]
    },
    {
     "cell_type": "code",
     "collapsed": false,
     "input": [
      "raw_log_data = [json.loads(i) for i in open('MusicExperiment.log')]\n",
      "raw_log_data[:2]"
     ],
     "language": "python",
     "metadata": {},
     "outputs": []
    },
    {
     "cell_type": "markdown",
     "metadata": {},
     "source": [
      "It's preferable to deal with the data as a flat set of columns. We use this handy-dandy function Eytan found on stackoverflow to flatten dictionaries."
     ]
    },
    {
     "cell_type": "code",
     "collapsed": false,
     "input": [
      "# stolen from http://stackoverflow.com/questions/23019119/converting-multilevel-nested-dictionaries-to-pandas-dataframe\n",
      "from collections import OrderedDict\n",
      "def flatten(d):\n",
      "    \"Flatten an OrderedDict object\"\n",
      "    result = OrderedDict()\n",
      "    for k, v in d.items():\n",
      "        if isinstance(v, dict):\n",
      "            result.update(flatten(v))\n",
      "        else:\n",
      "            result[k] = v\n",
      "    return result"
     ],
     "language": "python",
     "metadata": {},
     "outputs": []
    },
    {
     "cell_type": "markdown",
     "metadata": {},
     "source": [
      "Here is what the flattened dataframe looks like:"
     ]
    },
    {
     "cell_type": "code",
     "collapsed": true,
     "input": [
      "log_data = pd.DataFrame.from_dict([flatten(i) for i in raw_log_data])\n",
      "log_data[:5]"
     ],
     "language": "python",
     "metadata": {},
     "outputs": []
    },
    {
     "cell_type": "heading",
     "level": 3,
     "metadata": {},
     "source": [
      "Joining exposure data with event data"
     ]
    },
    {
     "cell_type": "markdown",
     "metadata": {},
     "source": [
      "We first extract all user-album pairs that were exposed to an experiemntal treatment, and their parameter assignments."
     ]
    },
    {
     "cell_type": "code",
     "collapsed": false,
     "input": [
      "all_exposures = log_data[log_data.event=='exposure']\n",
      "unique_exposures = all_exposures[['userid','albumid','sort_by_rating']].drop_duplicates()"
     ],
     "language": "python",
     "metadata": {},
     "outputs": []
    },
    {
     "cell_type": "markdown",
     "metadata": {},
     "source": [
      "Tabulating the users' assignments, we find that the assignment probabilities correspond to the design at the beginning of this notebook."
     ]
    },
    {
     "cell_type": "code",
     "collapsed": false,
     "input": [
      "unique_exposures[['userid','sort_by_rating']].groupby('sort_by_rating').agg(len)"
     ],
     "language": "python",
     "metadata": {},
     "outputs": []
    },
    {
     "cell_type": "markdown",
     "metadata": {},
     "source": []
    },
    {
     "cell_type": "code",
     "collapsed": false,
     "input": [
      "conversions = log_data[log_data.event=='purchase'][['userid', 'albumid','price']]\n",
      "df = pd.merge(unique_exposures, conversions, on=['userid', 'albumid'], how='left')\n",
      "df['purchased'] = df.price.notnull()\n",
      "df['revenue'] = df.purchased * df.price.fillna(0)"
     ],
     "language": "python",
     "metadata": {},
     "outputs": []
    },
    {
     "cell_type": "markdown",
     "metadata": {},
     "source": [
      "Here is a sample of the merged rows. Most rows contain missing values for price, because the user didn't purchase the item."
     ]
    },
    {
     "cell_type": "code",
     "collapsed": false,
     "input": [
      "df[:5]"
     ],
     "language": "python",
     "metadata": {},
     "outputs": []
    },
    {
     "cell_type": "markdown",
     "metadata": {},
     "source": [
      "Restricted to those who bought something..."
     ]
    },
    {
     "cell_type": "code",
     "collapsed": false,
     "input": [
      "df[df.price > 0][:5]"
     ],
     "language": "python",
     "metadata": {},
     "outputs": []
    },
    {
     "cell_type": "heading",
     "level": 3,
     "metadata": {},
     "source": [
      "Analyzing the experimental results"
     ]
    },
    {
     "cell_type": "code",
     "collapsed": false,
     "input": [
      "df.groupby('sort_by_rating')[['purchased', 'price', 'revenue']].agg(mean)"
     ],
     "language": "python",
     "metadata": {},
     "outputs": []
    },
    {
     "cell_type": "markdown",
     "metadata": {},
     "source": [
      "It would be cool to plot CIs or something, but whatevs."
     ]
    }
   ],
   "metadata": {}
  }
 ]
}