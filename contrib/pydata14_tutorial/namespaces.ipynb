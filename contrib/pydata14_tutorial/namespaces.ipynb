{
 "metadata": {
  "name": "",
  "signature": "sha256:24200c6e6f11131e193c2266144758609d3c57d5052d643388ab05259e06951e"
 },
 "nbformat": 3,
 "nbformat_minor": 0,
 "worksheets": [
  {
   "cells": [
    {
     "cell_type": "code",
     "collapsed": false,
     "input": [
      "from planout.namespace import SimpleNamespace\n",
      "from planout.experiment import SimpleExperiment, DefaultExperiment\n",
      "from planout.ops.random import *\n",
      "import pandas as pd"
     ],
     "language": "python",
     "metadata": {},
     "outputs": [],
     "prompt_number": 3
    },
    {
     "cell_type": "markdown",
     "metadata": {},
     "source": [
      "Let's suppose we're iteratively running experiments, where we create a new experiment every few weeks as we learn things. Here are three experiments."
     ]
    },
    {
     "cell_type": "code",
     "collapsed": false,
     "input": [
      "class V1(SimpleExperiment):\n",
      "  def assign(self, params, userid):\n",
      "    params.banner_text = UniformChoice(\n",
      "      choices=['Hello there!', 'Welcome!'],\n",
      "      unit=userid)\n",
      "\n",
      "class V2(SimpleExperiment):\n",
      "  def assign(self, params, userid):\n",
      "    params.banner_text = WeightedChoice(\n",
      "      choices=['Hello there!', 'Welcome!'],\n",
      "      weights=[0.8, 0.2],\n",
      "      unit=userid)\n",
      "\n",
      "class V3(SimpleExperiment):\n",
      "  def assign(self, params, userid):\n",
      "    params.banner_text = WeightedChoice(\n",
      "      choices=['Nice to see you!', 'Welcome back!'],\n",
      "      weights=[0.8, 0.2],\n",
      "      unit=userid)"
     ],
     "language": "python",
     "metadata": {},
     "outputs": [],
     "prompt_number": 10
    },
    {
     "cell_type": "markdown",
     "metadata": {},
     "source": [
      "We also specify the experience of users not assigned to any experiments."
     ]
    },
    {
     "cell_type": "code",
     "collapsed": false,
     "input": [
      "class DefaultBannerExperiment(DefaultExperiment):\n",
      "  def get_default_params(self):\n",
      "    return {'banner_text': 'Generic greetings!'}"
     ],
     "language": "python",
     "metadata": {},
     "outputs": [],
     "prompt_number": 11
    },
    {
     "cell_type": "markdown",
     "metadata": {},
     "source": [
      "Here is a namespace. It defines a name, the primary unit which gets hashed into conditions, the number of segments (should be 10,000 or 100,000 in production settings)."
     ]
    },
    {
     "cell_type": "code",
     "collapsed": false,
     "input": [
      "class BannerNamespace(SimpleNamespace):\n",
      "  def setup(self):\n",
      "    self.name = 'banner'\n",
      "    self.primary_unit = 'userid'\n",
      "    self.num_segments = 100\n",
      "    self.default_experiment_class = DefaultButtonExperiment\n",
      "    \n",
      "  def setup_experiments(self):\n",
      "    self.add_experiment('first version phase 1', V1, 10)\n",
      "    self.add_experiment('first version phase 2', V1, 20)\n",
      "    self.add_experiment('second version', V2, 10)"
     ],
     "language": "python",
     "metadata": {},
     "outputs": [],
     "prompt_number": 12
    },
    {
     "cell_type": "code",
     "collapsed": false,
     "input": [
      "ButtonNamespace(userid=6).get('banner_text')"
     ],
     "language": "python",
     "metadata": {},
     "outputs": [
      {
       "metadata": {},
       "output_type": "pyout",
       "prompt_number": 13,
       "text": [
        "'Welcome!'"
       ]
      }
     ],
     "prompt_number": 13
    },
    {
     "cell_type": "code",
     "collapsed": false,
     "input": [
      "print ButtonNamespace(userid=6).get('banner_text')\n",
      "print ButtonNamespace(userid=5).get('banner_text')\n",
      "print ButtonNamespace(userid=12).get('banner_text')"
     ],
     "language": "python",
     "metadata": {},
     "outputs": [
      {
       "output_type": "stream",
       "stream": "stdout",
       "text": [
        "Welcome!\n",
        "Generic greetings!\n",
        "Hello there!\n"
       ]
      }
     ],
     "prompt_number": 14
    },
    {
     "cell_type": "code",
     "collapsed": false,
     "input": [
      "ns = ButtonNamespace(userid=4)\n",
      "allocations = pd.DataFrame(ns.segment_allocations.items(), columns=['segment', 'experiment'])\n",
      "print allocations[:8]\n",
      "print allocations.groupby('experiment').agg(len)"
     ],
     "language": "python",
     "metadata": {},
     "outputs": [
      {
       "output_type": "stream",
       "stream": "stdout",
       "text": [
        "   segment             experiment\n",
        "0        0  first version phase 2\n",
        "1        7  first version phase 2\n",
        "2       10         second version\n",
        "3       11  first version phase 2\n",
        "4       14         second version\n",
        "5       15         second version\n",
        "6       17  first version phase 2\n",
        "7       18         second version\n",
        "\n",
        "[8 rows x 2 columns]\n",
        "                       segment\n",
        "experiment                    \n",
        "first version phase 1       10\n",
        "first version phase 2       20\n",
        "second version              10\n",
        "\n",
        "[3 rows x 1 columns]\n"
       ]
      }
     ],
     "prompt_number": 7
    }
   ],
   "metadata": {}
  }
 ]
}