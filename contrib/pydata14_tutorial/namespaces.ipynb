{
 "metadata": {
  "name": "",
  "signature": "sha256:ba753649e2373dfa3b698430ec073c8691c39fba5179be408ce92ba3b9118903"
 },
 "nbformat": 3,
 "nbformat_minor": 0,
 "worksheets": [
  {
   "cells": [
    {
     "cell_type": "code",
     "collapsed": false,
     "input": [
      "from planout.namespace import SimpleNamespace\n",
      "from planout.experiment import SimpleExperiment, DefaultExperiment\n",
      "from planout.ops.random import *\n",
      "import pandas as pd\n",
      "\n",
      "\n",
      "class V1(SimpleExperiment):\n",
      "  def assign(self, params, userid):\n",
      "    params.banner_text = UniformChoice(\n",
      "      choices=['Hello there!', 'Welcome!'],\n",
      "      unit=userid)\n",
      "\n",
      "class V2(SimpleExperiment):\n",
      "  def assign(self, params, userid):\n",
      "    params.banner_text = WeightedChoice(\n",
      "      choices=['Hello there!', 'Welcome!'],\n",
      "      weights=[0.8, 0.2],\n",
      "      unit=userid)\n",
      "\n",
      "class V3(SimpleExperiment):\n",
      "  def assign(self, params, userid):\n",
      "    params.banner_text = WeightedChoice(\n",
      "      choices=['Nice to see you!', 'Welcome back!'],\n",
      "      weights=[0.8, 0.2],\n",
      "      unit=userid)\n",
      "\n",
      "\n",
      "class DefaultButtonExperiment(DefaultExperiment):\n",
      "  def get_default_params(self):\n",
      "    return {'banner_text': 'Generic greetings!'}\n",
      "\n",
      "class ButtonNamespace(SimpleNamespace):\n",
      "  def setup(self):\n",
      "    self.name = 'my_demo'\n",
      "    self.primary_unit = 'userid'\n",
      "    self.num_segments = 100\n",
      "    self.default_experiment_class = DefaultButtonExperiment\n",
      "\n",
      "  def setup_experiments(self):\n",
      "    self.add_experiment('first version phase 1', V1, 10)\n",
      "    self.add_experiment('first version phase 2', V1, 20)"
     ],
     "language": "python",
     "metadata": {},
     "outputs": [],
     "prompt_number": 32
    },
    {
     "cell_type": "code",
     "collapsed": false,
     "input": [
      "print ButtonNamespace(userid=6).get('banner_text')\n",
      "print ButtonNamespace(userid=5).get('banner_text')\n",
      "print ButtonNamespace(userid=12).get('banner_text')"
     ],
     "language": "python",
     "metadata": {},
     "outputs": [
      {
       "output_type": "stream",
       "stream": "stdout",
       "text": [
        "Welcome!\n",
        "Generic greetings!\n",
        "Hello there!\n"
       ]
      }
     ],
     "prompt_number": 45
    },
    {
     "cell_type": "code",
     "collapsed": false,
     "input": [
      "allocations = pd.DataFrame(ns.segment_allocations.items(), columns=['segment', 'experiment'])\n",
      "print allocations[:8]\n",
      "print allocations.groupby('experiment').agg(len)"
     ],
     "language": "python",
     "metadata": {},
     "outputs": [
      {
       "output_type": "stream",
       "stream": "stdout",
       "text": [
        "   segment             experiment\n",
        "0        0  first version phase 2\n",
        "1        7  first version phase 2\n",
        "2       11  first version phase 2\n",
        "3       17  first version phase 2\n",
        "4       19  first version phase 2\n",
        "5       25  first version phase 1\n",
        "6       34  first version phase 2\n",
        "7       37  first version phase 2\n",
        "\n",
        "[8 rows x 2 columns]\n",
        "                       segment\n",
        "experiment                    \n",
        "first version phase 1       10\n",
        "first version phase 2       20\n",
        "\n",
        "[2 rows x 1 columns]\n"
       ]
      }
     ],
     "prompt_number": 36
    },
    {
     "cell_type": "code",
     "collapsed": false,
     "input": [
      "_ipy.system('ls')"
     ],
     "language": "python",
     "metadata": {},
     "outputs": [
      {
       "ename": "NameError",
       "evalue": "name '_ipy' is not defined",
       "output_type": "pyerr",
       "traceback": [
        "\u001b[0;31m---------------------------------------------------------------------------\u001b[0m\n\u001b[0;31mNameError\u001b[0m                                 Traceback (most recent call last)",
        "\u001b[0;32m<ipython-input-46-559a24d02e13>\u001b[0m in \u001b[0;36m<module>\u001b[0;34m()\u001b[0m\n\u001b[0;32m----> 1\u001b[0;31m \u001b[0m_ipy\u001b[0m\u001b[0;34m.\u001b[0m\u001b[0msystem\u001b[0m\u001b[0;34m(\u001b[0m\u001b[0;34m'ls'\u001b[0m\u001b[0;34m)\u001b[0m\u001b[0;34m\u001b[0m\u001b[0m\n\u001b[0m",
        "\u001b[0;31mNameError\u001b[0m: name '_ipy' is not defined"
       ]
      }
     ],
     "prompt_number": 46
    },
    {
     "cell_type": "code",
     "collapsed": false,
     "input": [
      "m"
     ],
     "language": "python",
     "metadata": {},
     "outputs": [
      {
       "metadata": {},
       "output_type": "pyout",
       "prompt_number": 67,
       "text": [
        "{u'op': u'seq', u'seq': []}"
       ]
      }
     ],
     "prompt_number": 67
    },
    {
     "cell_type": "code",
     "collapsed": false,
     "input": [
      "from os import popen\n",
      "import json\n",
      "\n",
      "def compile(s):\n",
      "    \"compile planout code using planout.js compiler\"\n",
      "    with open('tmp.planout','w') as f:\n",
      "        f.write(s)\n",
      "    # the error handling here could be better...\n",
      "    return json.loads(popen('node ../../compiler/planout.js tmp.planout').read())\n",
      "\n",
      "compile(\"\"\"\n",
      "x = uniformChoice(choices=['a','b'], unit=userid);\n",
      "\"\"\")"
     ],
     "language": "python",
     "metadata": {},
     "outputs": [
      {
       "metadata": {},
       "output_type": "pyout",
       "prompt_number": 81,
       "text": [
        "{u'op': u'seq',\n",
        " u'seq': [{u'op': u'set',\n",
        "   u'value': {u'choices': {u'op': u'array', u'values': [u'a', u'b']},\n",
        "    u'op': u'uniformChoice',\n",
        "    u'unit': {u'op': u'get', u'var': u'userid'}},\n",
        "   u'var': u'x'}]}"
       ]
      }
     ],
     "prompt_number": 81
    },
    {
     "cell_type": "code",
     "collapsed": false,
     "input": [],
     "language": "python",
     "metadata": {},
     "outputs": []
    }
   ],
   "metadata": {}
  }
 ]
}